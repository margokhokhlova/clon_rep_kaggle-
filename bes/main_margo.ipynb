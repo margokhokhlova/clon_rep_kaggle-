{
 "cells": [
  {
   "cell_type": "code",
   "execution_count": 17,
   "metadata": {},
   "outputs": [],
   "source": [
    "from keras import backend as K\n",
    "from keras.optimizers import RMSprop\n",
    "from keras.callbacks import ModelCheckpoint, LearningRateScheduler, EarlyStopping, ReduceLROnPlateau\n",
    "from models.models import get_model\n",
    "from losses import make_loss\n",
    "import os\n",
    "import tensorflow.compat.v1 as tf\n",
    "#tf.disable_v2_behavior()\n",
    "import numpy as np\n",
    "from matplotlib.image import imread\n",
    "from keras.optimizers import Adam\n",
    "from keras.callbacks import TensorBoard\n",
    "from keras.metrics import  binary_accuracy\n"
   ]
  },
  {
   "cell_type": "code",
   "execution_count": 15,
   "metadata": {},
   "outputs": [],
   "source": [
    "from dataloaders.inria_datagenerator import InriaDatagenerator\n",
    "from segmentation_models.backbones import get_preprocessing as process_image\n",
    "from dataloaders.Losses import my_iou_metric as iou_score"
   ]
  },
  {
   "cell_type": "code",
   "execution_count": null,
   "metadata": {},
   "outputs": [],
   "source": [
    "# The GPU id to use, usually either \"0\" or \"1\";\n",
    "os.environ[\"CUDA_VISIBLE_DEVICES\"]=\"0\"; \n",
    "config = tf.ConfigProto()\n",
    "session = tf.Session(config=config)\n",
    "K.set_session(session)\n"
   ]
  },
  {
   "cell_type": "code",
   "execution_count": 4,
   "metadata": {},
   "outputs": [
    {
     "name": "stdout",
     "output_type": "stream",
     "text": [
      "The number of training samples is =  15301, validation samples is = 2445\n"
     ]
    }
   ],
   "source": [
    "BACKBONE = 'resnext50'\n",
    "preprocess_input = process_image(BACKBONE)\n",
    "\n",
    "# load original dataset\n",
    "import glob\n",
    "X_train = sorted(glob.glob(\"/data/margokat/inria/clean_data/train_frames/*.png\"))\n",
    "y_train = sorted(glob.glob(\"/data/margokat/inria/clean_data/train_masks/*.png\"))\n",
    "X_val = sorted(glob.glob(\"/data/margokat/inria/clean_data/val_frames/*.png\"))\n",
    "y_val = sorted(glob.glob(\"/data/margokat/inria/clean_data/val_masks/*.png\"))\n",
    "print('The number of training samples is =  %d, validation samples is = %d' % (len(X_train), len(X_val)))\n",
    "\n",
    "\n",
    "# calculate coverage\n",
    "coverage_train = {}\n",
    "gr_truth = np.zeros((len(y_train ),1))\n",
    "for i in range(len(y_train )):\n",
    "    mask = imread(y_train [i])\n",
    "    H, W = mask.shape\n",
    "    gr_truth[i] =  np.sum(mask) / (H*W)\n",
    "    coverage_train[y_train[i]] = gr_truth[i]\n",
    "\n",
    "coverage_val = {}\n",
    "gr_truth = np.zeros((len(y_val ),1))\n",
    "for i in range(len(y_val )):\n",
    "    mask = imread(y_val[i])\n",
    "    H, W = mask.shape\n",
    "    gr_truth[i] =  np.sum(mask) / (H*W)\n",
    "    coverage_val[y_val[i]] = gr_truth[i]\n",
    "\n",
    "\n",
    "# In[15]:\n",
    "\n",
    "\n",
    "# define parameters for sampling\n",
    "\n",
    "params = {'dim': (512, 512),\n",
    "          'batch_size': 5,\n",
    "          'n_channels_img':3,\n",
    "          'n_channel_mask':1,\n",
    "          'shuffle': False,\n",
    "          'Flip': True}\n",
    "\n",
    "training_generator = InriaDatagenerator(X_train, y_train, Transform = True, stratified_sampling=False, coverage=coverage_train, Process_function = preprocess_input, **params)\n",
    "\n",
    "params = {'dim': (512, 512),\n",
    "          'batch_size': 10,\n",
    "          'n_channels_img':3,\n",
    "          'n_channel_mask':1,\n",
    "          'shuffle': False}\n",
    "\n",
    "validation_generator = InriaDatagenerator(X_val, y_val, Transform = True, stratified_sampling=True, coverage=coverage_val, Process_function = preprocess_input, **params)\n",
    "(X,y) = training_generator.__getitem__(500, processing = False)\n",
    "#for i in range(X.shape[0]):\n",
    "#    show_sample(X[i,:].astype(int), np.squeeze(y[i,:]))\n"
   ]
  },
  {
   "cell_type": "code",
   "execution_count": 8,
   "metadata": {},
   "outputs": [],
   "source": [
    "def sig_iou_score(y_true, y_pred):\n",
    "    return iou_score(y_true,tf.math.sigmoid(y_pred)) # tf.math.sigmoid(y_pred)\n",
    "\n",
    "def sigm_binary_accuracy(y_true, y_pred):\n",
    "    return binary_accuracy(y_true, tf.math.sigmoid(y_pred))  #tf.math.sigmoid(y_pred)\n"
   ]
  },
  {
   "cell_type": "code",
   "execution_count": 1,
   "metadata": {},
   "outputs": [
    {
     "ename": "NameError",
     "evalue": "name 'get_model' is not defined",
     "output_type": "error",
     "traceback": [
      "\u001b[0;31m---------------------------------------------------------------------------\u001b[0m",
      "\u001b[0;31mNameError\u001b[0m                                 Traceback (most recent call last)",
      "\u001b[0;32m<ipython-input-1-725f9d3a03f1>\u001b[0m in \u001b[0;36m<module>\u001b[0;34m\u001b[0m\n\u001b[1;32m      1\u001b[0m \u001b[0;31m# Get the model\u001b[0m\u001b[0;34m\u001b[0m\u001b[0;34m\u001b[0m\u001b[0;34m\u001b[0m\u001b[0m\n\u001b[0;32m----> 2\u001b[0;31m model = get_model(network = 'unet_resnext_50',input_shape=(512, 512, 3),\n\u001b[0m\u001b[1;32m      3\u001b[0m                                       freeze_encoder=False)\n\u001b[1;32m      4\u001b[0m \u001b[0mAdam_opt\u001b[0m \u001b[0;34m=\u001b[0m\u001b[0mAdam\u001b[0m\u001b[0;34m(\u001b[0m\u001b[0mlr\u001b[0m\u001b[0;34m=\u001b[0m\u001b[0;36m0.0001\u001b[0m\u001b[0;34m,\u001b[0m  \u001b[0mbeta_1\u001b[0m\u001b[0;34m=\u001b[0m\u001b[0;36m0.9\u001b[0m\u001b[0;34m,\u001b[0m \u001b[0mbeta_2\u001b[0m\u001b[0;34m=\u001b[0m\u001b[0;36m0.999\u001b[0m\u001b[0;34m,\u001b[0m \u001b[0mepsilon\u001b[0m\u001b[0;34m=\u001b[0m\u001b[0;32mNone\u001b[0m\u001b[0;34m,\u001b[0m \u001b[0mdecay\u001b[0m\u001b[0;34m=\u001b[0m\u001b[0;36m0.0\u001b[0m\u001b[0;34m,\u001b[0m \u001b[0mamsgrad\u001b[0m\u001b[0;34m=\u001b[0m\u001b[0;32mFalse\u001b[0m\u001b[0;34m)\u001b[0m\u001b[0;31m#, beta_1=0.9, beta_2=0.999, epsilon=None, decay=0.001, amsgrad=True)\u001b[0m\u001b[0;34m\u001b[0m\u001b[0;34m\u001b[0m\u001b[0m\n",
      "\u001b[0;31mNameError\u001b[0m: name 'get_model' is not defined"
     ]
    }
   ],
   "source": [
    "# Get the model\n",
    "model = get_model(network = 'unet_resnext_50_lovasz',input_shape=(512, 512, 3),\n",
    "                                      freeze_encoder=False)\n",
    "Adam_opt =Adam(lr=0.00005,  beta_1=0.9, beta_2=0.999, epsilon=None, decay=0.0, amsgrad=False)#, beta_1=0.9, beta_2=0.999, epsilon=None, decay=0.001, amsgrad=True)\n"
   ]
  },
  {
   "cell_type": "code",
   "execution_count": null,
   "metadata": {},
   "outputs": [
    {
     "name": "stdout",
     "output_type": "stream",
     "text": [
      "Training the model...\n",
      "WARNING:tensorflow:From /home/margokat/virtenvs/tf_2_0/lib/python3.6/site-packages/tensorflow/python/ops/math_ops.py:3066: to_int32 (from tensorflow.python.ops.math_ops) is deprecated and will be removed in a future version.\n",
      "Instructions for updating:\n",
      "Use tf.cast instead.\n",
      "Epoch 1/120\n",
      "  2/766 [..............................] - ETA: 8:27:47 - loss: 0.6866 - sig_iou_score: 0.0000e+00 - sigm_binary_accuracy: 0.6822 "
     ]
    }
   ],
   "source": [
    "loss_function ='lovasz'\n",
    "loss_history = []\n",
    "weight_path = \"/data/margokat/models_saved/inria/{}_weights.best.hdf5\".format('resnext50_unet_bes_sse_block')\n",
    "checkpoint = ModelCheckpoint(weight_path, monitor='val_loss', verbose=1,\n",
    "                             save_best_only=True, mode='min', save_weights_only=True)\n",
    "\n",
    "reduceLROnPlat = ReduceLROnPlateau(monitor='val_loss', factor=0.8, patience=2, verbose=1, mode='auto',\n",
    "                                   epsilon=0.0001, cooldown=4, min_lr=0.0001)\n",
    "early = EarlyStopping(monitor=\"val_loss\",\n",
    "                      mode=\"min\",\n",
    "                      patience=15)  # probably needs to be more patient, but kaggle time is limited\n",
    "\n",
    "tboard = TensorBoard(log_dir='Graph_resnext50_unet_512_modif_transpose/sse_block/', histogram_freq=0,  \n",
    "          write_graph=True, write_images=True)\n",
    "\n",
    "callbacks_list = [checkpoint, early, tboard]\n",
    "\n",
    "# fit the model\n",
    "print('Training the model...')\n",
    "model.compile(Adam_opt, loss=make_loss(loss_function), metrics=[sig_iou_score, sigm_binary_accuracy])\n",
    "model.load_weights(weight_path) # if to continue training\n",
    "loss_history = model.fit_generator(generator=training_generator, steps_per_epoch=np.ceil(len(X_train)/params['batch_size']),\n",
    "        epochs=120,\n",
    "        validation_data=validation_generator, validation_steps=int(len(X_val)/params['batch_size']),\n",
    "        use_multiprocessing=False,\n",
    "        callbacks=callbacks_list, initial_epoch = 61)"
   ]
  },
  {
   "cell_type": "code",
   "execution_count": null,
   "metadata": {},
   "outputs": [],
   "source": []
  }
 ],
 "metadata": {
  "kernelspec": {
   "display_name": "Python 3",
   "language": "python",
   "name": "python3"
  },
  "language_info": {
   "codemirror_mode": {
    "name": "ipython",
    "version": 3
   },
   "file_extension": ".py",
   "mimetype": "text/x-python",
   "name": "python",
   "nbconvert_exporter": "python",
   "pygments_lexer": "ipython3",
   "version": "3.6.7"
  }
 },
 "nbformat": 4,
 "nbformat_minor": 2
}
